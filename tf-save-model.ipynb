{
 "cells": [
  {
   "cell_type": "markdown",
   "metadata": {},
   "source": [
    "# Create a Servable ML Model with Tensorflow\n",
    "In this notebook we will create, save, load, and employ models with Tensorflow. We will work through how to structure code to create models that can be saved and used for inference in the cloud or at the edge with applications such as dashboards, games, anomaly detection, and much more."
   ]
  },
  {
   "cell_type": "code",
   "execution_count": 1,
   "metadata": {},
   "outputs": [
    {
     "name": "stdout",
     "output_type": "stream",
     "text": [
      "Tensorflow version: 2.0.0\n",
      "Numpy version: 1.16.5\n"
     ]
    }
   ],
   "source": [
    "import numpy as np\n",
    "import tensorflow as tf\n",
    "from tensorflow import keras\n",
    "from tensorflow.python.framework.convert_to_constants import convert_variables_to_constants_v2\n",
    "import pandas as pd\n",
    "from sklearn.model_selection import train_test_split\n",
    "import os\n",
    "print(\"Tensorflow version:\", tf.version.VERSION)\n",
    "print(\"Numpy version:\", np.version.version)"
   ]
  },
  {
   "cell_type": "code",
   "execution_count": 2,
   "metadata": {},
   "outputs": [],
   "source": [
    "MODEL_DIR = 'models' # We will save model to this directory\n",
    "DATA_PATH = os.path.join('data', 'data.csv') "
   ]
  },
  {
   "cell_type": "markdown",
   "metadata": {},
   "source": [
    "Tensorflow 2 includes a [SavedModel](https://www.tensorflow.org/guide/saved_model \"Tensorflow SavedModel docs\") format that can be utilised for transfer learning and/or inference in applications. In order for a model to be saveable, it has to be of the type `tf.Module`. Keras models satisfy this criterium and are thus relatively simple to save. Before jumping into a specific example of a Keras model, we will, however, address the components of a Tensorflow SavedModel with a general example using pure Tensorflow.\n",
    "\n",
    "# General Example in Pure Tensorflow\n",
    "\n",
    "## An Example Model\n",
    "A Tensorflow SavedModel can be created from a `tf.Module`, so let us create a very simple example model using this object structure. The saved model will include any `tf.Modules`s, any methods with the `@tf.function` decorator, and any `tf.Variable`, but will not include any Python code or functionality."
   ]
  },
  {
   "cell_type": "code",
   "execution_count": 3,
   "metadata": {},
   "outputs": [],
   "source": [
    "class LinearScaler(tf.Module):\n",
    "    '''\n",
    "    LinearScaler is a very simple linear function that takes in a variable, multiplies it\n",
    "     by a weight and adds a bias before returning the result.\n",
    "    '''\n",
    "    def __init__(self):\n",
    "        super(LinearScaler, self).__init__()\n",
    "        self.bias = tf.Variable(1.)\n",
    "        self.weight = tf.Variable(2.)\n",
    "    \n",
    "    # Uncomment to set input signature\n",
    "    @tf.function#(input_signature=[tf.TensorSpec([], tf.float32)])\n",
    "    def __call__(self, x):\n",
    "        '''\n",
    "        Linearly rescale y = x * weight + bias\n",
    "        :param x: The variable to be linearly scaled\n",
    "        :type x: tf.float32\n",
    "        :output dict: \"y\" = x * weight + bias\n",
    "        '''\n",
    "        return {\"y\" : x * self.weight + self.bias}\n",
    "\n",
    "    @tf.function(input_signature=[tf.TensorSpec([], tf.float32), tf.TensorSpec([], tf.float32)])\n",
    "    def calibrate(self, weight, bias):\n",
    "        '''\n",
    "        Set the parameters of the linear function.\n",
    "        :param weight: Weight of the linear function\n",
    "        :type weight: tf.float32\n",
    "        :param bias: Bias of the linear function\n",
    "        :type bias: tf.float32\n",
    "        '''\n",
    "        self.weight.assign(weight)\n",
    "        self.bias.assign(bias)\n",
    "\n",
    "model = LinearScaler()"
   ]
  },
  {
   "cell_type": "markdown",
   "metadata": {},
   "source": [
    "Let us make sure that is works by evaluating it. Note that by evaluating the model, it is compiled into a graph - a step that is needed before we save"
   ]
  },
  {
   "cell_type": "code",
   "execution_count": 4,
   "metadata": {},
   "outputs": [],
   "source": [
    "assert model(tf.constant(4.))[\"y\"].numpy() == 9 #  2 * 4 + 1\n",
    "model.calibrate(weight=5, bias=2)\n",
    "assert model(tf.constant(4.))[\"y\"].numpy() == 22 # 5 * 4 + 2"
   ]
  },
  {
   "cell_type": "markdown",
   "metadata": {},
   "source": [
    "Fantastic! Now we have a working model. \n",
    "\n",
    "## Save and Load\n",
    "Let us go right ahead and save our model using the `tf.saved_model.save` method:"
   ]
  },
  {
   "cell_type": "code",
   "execution_count": 6,
   "metadata": {},
   "outputs": [
    {
     "name": "stdout",
     "output_type": "stream",
     "text": [
      "INFO:tensorflow:Assets written to: models\\no_signatures\\assets\n"
     ]
    }
   ],
   "source": [
    "no_signatures_path = os.path.join(MODEL_DIR, 'no_signatures')\n",
    "#model = LinearScaler() # Get a fresh model\n",
    "#model(tf.constant(4.))\n",
    "tf.saved_model.save(model, no_signatures_path) # Save the function to a dir"
   ]
  },
  {
   "cell_type": "markdown",
   "metadata": {},
   "source": [
    "Loading the model also only takes a single line with the `tf.saved_model.load` method:"
   ]
  },
  {
   "cell_type": "code",
   "execution_count": 7,
   "metadata": {},
   "outputs": [],
   "source": [
    "loaded_model = tf.saved_model.load(no_signatures_path)"
   ]
  },
  {
   "cell_type": "markdown",
   "metadata": {},
   "source": [
    "What we have done so far will work perfectly well in many cases but, in some cases, the loaded model might behave differently from our expectations. Let us look at some characteristics of the model as it is now.<br><br>\n",
    "Firstly, the parameters of the loaded model are the same as the original at the time we saved it:"
   ]
  },
  {
   "cell_type": "code",
   "execution_count": 8,
   "metadata": {},
   "outputs": [
    {
     "name": "stdout",
     "output_type": "stream",
     "text": [
      "Weight in loaded model: 5.0\n",
      "Bias in loaded model: 2.0\n"
     ]
    }
   ],
   "source": [
    "assert model.weight.numpy() == loaded_model.weight.numpy()\n",
    "print(\"Weight in loaded model:\", loaded_model.weight.numpy())\n",
    "print(\"Bias in loaded model:\", loaded_model.bias.numpy())"
   ]
  },
  {
   "cell_type": "markdown",
   "metadata": {},
   "source": [
    "Specifically, the weight and bias parameters to not attain the values of a newly initialised model but the values that we set just before saving.<br><br>\n",
    "The loaded model will also evaluate inputs like the original model:"
   ]
  },
  {
   "cell_type": "code",
   "execution_count": 10,
   "metadata": {},
   "outputs": [
    {
     "name": "stdout",
     "output_type": "stream",
     "text": [
      "{'y': <tf.Tensor: id=282, shape=(), dtype=float32, numpy=112.0>}\n"
     ]
    }
   ],
   "source": [
    "assert model(tf.constant(4.))[\"y\"].numpy() == loaded_model(tf.constant(4.))[\"y\"].numpy()\n",
    "assert model(tf.constant(22.))[\"y\"].numpy() == loaded_model(tf.constant(22.))[\"y\"].numpy()\n",
    "print(loaded_model(tf.constant(22.)))"
   ]
  },
  {
   "cell_type": "markdown",
   "metadata": {},
   "source": [
    "However, this is where the simillarity ends. Our original model will happily evaluate a different kind of input. Here for instance a Tensor of several floats:"
   ]
  },
  {
   "cell_type": "code",
   "execution_count": 11,
   "metadata": {},
   "outputs": [
    {
     "name": "stdout",
     "output_type": "stream",
     "text": [
      "{'y': <tf.Tensor: id=294, shape=(3,), dtype=float32, numpy=array([ 7., 12., 17.], dtype=float32)>}\n"
     ]
    }
   ],
   "source": [
    "print(model(tf.constant([1., 2., 3.]))) # Passing a Tensor of floats"
   ]
  },
  {
   "cell_type": "markdown",
   "metadata": {},
   "source": [
    "But when providing the same input to our loaded model, we are presented with a ValueError"
   ]
  },
  {
   "cell_type": "code",
   "execution_count": 12,
   "metadata": {},
   "outputs": [
    {
     "name": "stdout",
     "output_type": "stream",
     "text": [
      "We got a ValueError:\n",
      " Could not find matching function to call loaded from the SavedModel. Got:\n",
      "  Positional arguments (1 total):\n",
      "    * Tensor(\"x:0\", shape=(3,), dtype=float32)\n",
      "  Keyword arguments: {}\n",
      "\n",
      "Expected these arguments to match one of the following 1 option(s):\n",
      "\n",
      "Option 1:\n",
      "  Positional arguments (1 total):\n",
      "    * TensorSpec(shape=(), dtype=tf.float32, name='x')\n",
      "  Keyword arguments: {}\n"
     ]
    }
   ],
   "source": [
    "try:\n",
    "    print(loaded_model(tf.constant([1., 2., 3.]))) # Passing a Tensor of floats\n",
    "except ValueError as e:\n",
    "    print(\"We got a ValueError:\\n\", e)"
   ]
  },
  {
   "cell_type": "markdown",
   "metadata": {},
   "source": [
    "It is not that we did anything wrong. It is just that we did not pay much attention to the *input* of our model. When we evaluated the model before saving it we caused the class we defined to be compiled into a `tf.Graph` object. The Graph object must assume a fixed structure of the input, i.e. an input signature. When we pass a new input to our original model, the graph can get recompiled to fit that input, but our saved and loaded model represents a fixed Graph that can only accept the expected input and will throw a ValueError otherwise. In other words, we should specify the input signature that our model should expect. We did specify the input signature implicitly when evaluating the model the first time, but we might want to do it explicitly.\n",
    "\n",
    "## Save with an Input Signature\n",
    "There are two was to specify an input signature to a Tensorflow method. One way is to use the `@tf.function` decorator. The `@tf.function` decorator takes an input_signature as a kwarg, and we can pass it a list of `tf.TensorSpec`s to template the input. We actually already did this in the example model for the `.calibrate` method to show that we are expecting two constant tensors as input, but for the `__call__` method, the signature was commented out.<br>\n",
    "The second method is to explicitly compile the `tf.Graph` and, in the process, passing an input signature. We can do this by invoking the `.get_concrete_function` method on the `__call__` method:"
   ]
  },
  {
   "cell_type": "code",
   "execution_count": 13,
   "metadata": {},
   "outputs": [],
   "source": [
    "model_with_signature = LinearScaler() # Get a fresh instance of the function\n",
    "input_signature_array = tf.TensorSpec([None], tf.float32) # Note! Specifices a Tensor array of floats\n",
    "call = model_with_signature.__call__.get_concrete_function(input_signature_array) # Compile Graph"
   ]
  },
  {
   "cell_type": "markdown",
   "metadata": {},
   "source": [
    "When we save the compiled graph, we will pass this compilation"
   ]
  },
  {
   "cell_type": "code",
   "execution_count": 14,
   "metadata": {},
   "outputs": [
    {
     "name": "stdout",
     "output_type": "stream",
     "text": [
      "INFO:tensorflow:Assets written to: models\\with_signature\\assets\n"
     ]
    }
   ],
   "source": [
    "with_signature_path = os.path.join(MODEL_DIR, 'with_signature')\n",
    "tf.saved_model.save(model_with_signature, with_signature_path, signatures=call) # Save the function"
   ]
  },
  {
   "cell_type": "markdown",
   "metadata": {},
   "source": [
    "Let us load up the model and whether it can handle the input we specified"
   ]
  },
  {
   "cell_type": "code",
   "execution_count": 15,
   "metadata": {},
   "outputs": [
    {
     "name": "stdout",
     "output_type": "stream",
     "text": [
      "{'y': <tf.Tensor: id=536, shape=(3,), dtype=float32, numpy=array([ 7.,  9., 11.], dtype=float32)>}\n"
     ]
    }
   ],
   "source": [
    "loaded_model_with_signature = tf.saved_model.load(with_signature_path)\n",
    "print(loaded_model_with_signature(tf.constant([3., 4., 5.])))"
   ]
  },
  {
   "cell_type": "markdown",
   "metadata": {},
   "source": [
    "That is one challenge solved; we now know how to explicitly define the input signature. The model works with the specified input, but any other type of input will cause a ValueError"
   ]
  },
  {
   "cell_type": "code",
   "execution_count": 16,
   "metadata": {},
   "outputs": [
    {
     "name": "stdout",
     "output_type": "stream",
     "text": [
      "We got a ValueError: Could not find matching function to call loaded from the SavedModel. Got:\n",
      "  Positional arguments (1 total):\n",
      "    * Tensor(\"x:0\", shape=(), dtype=float32)\n",
      "  Keyword arguments: {}\n",
      "\n",
      "Expected these arguments to match one of the following 1 option(s):\n",
      "\n",
      "Option 1:\n",
      "  Positional arguments (1 total):\n",
      "    * TensorSpec(shape=(None,), dtype=tf.float32, name='x')\n",
      "  Keyword arguments: {}\n"
     ]
    }
   ],
   "source": [
    "try:\n",
    "    print(loaded_model_with_signature(tf.constant(3.)))\n",
    "except ValueError as e:\n",
    "    print(\"We got a ValueError:\", e)"
   ]
  },
  {
   "cell_type": "markdown",
   "metadata": {},
   "source": [
    "## Save with Multiple Input Signatures\n",
    "We might want to save and serve our model with multiple kinds of inputs. For instance in our example model, we would like to serve the model to single inputs as well as a list of inputs. Everything else, like the weights and biases, should be the same, but the input should be flexible. One way to do this might be to save two or more seperate models, but that would create multiple duplicates of the same weights and, as a result, extra operational overhead. Fortunately, there is a better way.<br>\n",
    "A loaded model actually has a dictionary, `.signatures`, mapping the input signatures that can be evaluated in the model. We only specified a single input signature, so there should be only one entry in the dictionary:"
   ]
  },
  {
   "cell_type": "code",
   "execution_count": 17,
   "metadata": {},
   "outputs": [
    {
     "name": "stdout",
     "output_type": "stream",
     "text": [
      "['serving_default']\n"
     ]
    }
   ],
   "source": [
    "print(list(loaded_model_with_signature.signatures.keys()))"
   ]
  },
  {
   "cell_type": "markdown",
   "metadata": {},
   "source": [
    "There is indeed only a single entry, which is the default `\"serving_default\"` entry. When we call the loaded model and do not specify a key to this dictionary, it will look up `\"serving_default\"` and decide whether the input signature matches the input we used to call the model.<br>\n",
    "We could also have supplied the key and created an object of our model expecting the specified input:"
   ]
  },
  {
   "cell_type": "code",
   "execution_count": 18,
   "metadata": {},
   "outputs": [
    {
     "name": "stdout",
     "output_type": "stream",
     "text": [
      "{'y': <tf.Tensor: id=542, shape=(), dtype=float32, numpy=13.0>}\n"
     ]
    }
   ],
   "source": [
    "inference_object_array = loaded_model_with_signature.signatures[\"serving_default\"]\n",
    "print(inference_object_array(tf.constant(6.)))"
   ]
  },
  {
   "cell_type": "markdown",
   "metadata": {},
   "source": [
    "We can use this functionality to create one saved model that serves multiple kinds of inputs. We do this by supplying a dictionary mapping keys to Graphs to the `tf.saved_model.save` method"
   ]
  },
  {
   "cell_type": "code",
   "execution_count": 19,
   "metadata": {},
   "outputs": [
    {
     "name": "stdout",
     "output_type": "stream",
     "text": [
      "INFO:tensorflow:Assets written to: models\\multiple_signatures\\assets\n"
     ]
    }
   ],
   "source": [
    "model_multiple_signatures = LinearScaler() # Get a fresh instance of the function\n",
    "\n",
    "# Input signatures\n",
    "input_signature_single = tf.TensorSpec(None, tf.float32) # Specifices a single Tensor float\n",
    "input_signature_array = tf.TensorSpec([None], tf.float32) # Specifices a Tensor array of floats\n",
    "\n",
    "# Compiled Graphs\n",
    "call_single = model_multiple_signatures.__call__.get_concrete_function(input_signature_single)\n",
    "call_array = model_multiple_signatures.__call__.get_concrete_function(input_signature_array)\n",
    "\n",
    "# Input signature dictionary\n",
    "signatures = {\"serving_default\": call_single,\n",
    "              \"array_input\": call_array}\n",
    "\n",
    "# Save the model\n",
    "multiple_signatures_path = os.path.join(MODEL_DIR, \"multiple_signatures\")\n",
    "tf.saved_model.save(model_multiple_signatures, multiple_signatures_path, signatures=signatures)"
   ]
  },
  {
   "cell_type": "markdown",
   "metadata": {},
   "source": [
    "We can load up the model and create two different inference objects "
   ]
  },
  {
   "cell_type": "code",
   "execution_count": 20,
   "metadata": {},
   "outputs": [],
   "source": [
    "loaded_model_multiple_signatures = tf.saved_model.load(multiple_signatures_path)\n",
    "inference_object_single = loaded_model_multiple_signatures.signatures[\"serving_default\"]\n",
    "inference_object_array = loaded_model_multiple_signatures.signatures[\"array_input\"]"
   ]
  },
  {
   "cell_type": "markdown",
   "metadata": {},
   "source": [
    "The inference objects still point to the same model, so if we change the parameters of the model, it will apply to both"
   ]
  },
  {
   "cell_type": "code",
   "execution_count": 21,
   "metadata": {},
   "outputs": [
    {
     "name": "stdout",
     "output_type": "stream",
     "text": [
      "{'y': <tf.Tensor: id=840, shape=(3,), dtype=float32, numpy=array([ 7.,  9., 11.], dtype=float32)>}\n",
      "{'y': <tf.Tensor: id=842, shape=(), dtype=float32, numpy=11.0>}\n",
      "{'y': <tf.Tensor: id=855, shape=(3,), dtype=float32, numpy=array([13., 16., 19.], dtype=float32)>}\n",
      "{'y': <tf.Tensor: id=857, shape=(), dtype=float32, numpy=19.0>}\n"
     ]
    }
   ],
   "source": [
    "# Evaluate two types of inputs\n",
    "print(inference_object_array(tf.constant([3., 4., 5.])))\n",
    "print(inference_object_single(tf.constant(5.)))\n",
    "\n",
    "# Change parameters of the model\n",
    "loaded_model_multiple_signatures.calibrate(tf.constant(3.), tf.constant(4.))\n",
    "\n",
    "# Evaluate the same input again - note the difference in both!\n",
    "print(inference_object_array(tf.constant([3., 4., 5.])))\n",
    "print(inference_object_single(tf.constant(5.)))"
   ]
  },
  {
   "cell_type": "markdown",
   "metadata": {},
   "source": [
    "Note that this also means that our model is mutable even during inference. In fact the SavedModel format can be used for inference as well as retraining or transfer learning cases.<br>\n",
    "Now we know almost everythin there is to know about the SavedModel format. Let's just take a quick look inside one of the directories created each time we save a model."
   ]
  },
  {
   "cell_type": "markdown",
   "metadata": {},
   "source": [
    "## Inside a Saved Model\n",
    "Let us have a look at what is in one of the directories we created."
   ]
  },
  {
   "cell_type": "code",
   "execution_count": 22,
   "metadata": {},
   "outputs": [
    {
     "data": {
      "text/plain": [
       "['assets', 'saved_model.pb', 'variables']"
      ]
     },
     "execution_count": 22,
     "metadata": {},
     "output_type": "execute_result"
    }
   ],
   "source": [
    "os.listdir(multiple_signatures_path)"
   ]
  },
  {
   "cell_type": "markdown",
   "metadata": {},
   "source": [
    "The saved model consists of several elements.<br>\n",
    "- `saved_model.pb` contains the model architecture that is used to rebuild the function\n",
    "- The directory `variables` contain one or more data files holding the values of the parameters in the model at the time it was saved. For large models with billions of parameters, these data files can grow large. A `variables.index` file maps the stored parameters to their right spot in the function\n",
    "- The directory `assets` holds additional artefacts needed to recreate the function, but should be empty in our case"
   ]
  },
  {
   "cell_type": "markdown",
   "metadata": {},
   "source": [
    "# A Keras Example\n",
    "Now that we are clear on the basics, let us take a look at a more realistic workflow. Defining, saving, and serving a model built with Keras.<br>\n",
    "Our model starts with a bit of data and something to be modelled. I have prepared a small dataset consisting of weather observations from a station that observes temperature, relative humidity, air pressure, and whether it is raining or not. Our task is to build a model that predicts whether it rains or not given the temperature, relative humidity, and air pressure. Our target is not to build an awesome or precise model. It is to train, save, and then serve the model.<br>\n",
    "## Example Data\n",
    "First order of business, let us have a look at the example data."
   ]
  },
  {
   "cell_type": "code",
   "execution_count": 23,
   "metadata": {},
   "outputs": [
    {
     "name": "stdout",
     "output_type": "stream",
     "text": [
      "Example observations\n",
      "      pressure  rain  temperature  humidity\n",
      "80       999.2     0          2.5      48.0\n",
      "1141     977.8     0          7.7      74.0\n",
      "1753    1015.5     0         -2.8      64.0\n",
      "243     1015.9     0          1.3      82.0\n",
      "1248     989.6     0          6.6      90.0\n",
      "1367     996.9     0         -4.1      69.0\n",
      "1198    1003.8     0         -1.1      88.0\n",
      "1858    1003.6     0          6.7      71.0\n",
      "587     1008.1     0          4.3      63.0\n",
      "2993    1014.1     0         11.1      29.0\n",
      "\n",
      "Statistics\n",
      "          pressure  temperature     humidity\n",
      "count  3151.000000  3151.000000  3151.000000\n",
      "mean   1005.235989     4.737417    71.054268\n",
      "std      15.113994     3.998234    20.464912\n",
      "min     951.100000    -6.400000    22.000000\n",
      "25%     996.150000     2.200000    55.000000\n",
      "50%    1005.700000     5.000000    75.000000\n",
      "75%    1016.500000     6.700000    89.000000\n",
      "max    1036.400000    20.100000    97.000000\n"
     ]
    }
   ],
   "source": [
    "df = pd.read_csv('data/data.csv')\n",
    "feature_cols = ['pressure', 'temperature', 'humidity']\n",
    "label_col = ['rain']\n",
    "print(\"Example observations\")\n",
    "print(df.sample(10))\n",
    "print()\n",
    "print(\"Statistics\")\n",
    "print(df[feature_cols].describe())"
   ]
  },
  {
   "cell_type": "markdown",
   "metadata": {},
   "source": [
    "The data is of relatively high quality, all we need to do is to reduce the numerical difference and align the variances. Specifically, we will standardise (z norm) the features. If this CONTINUE HERE"
   ]
  },
  {
   "cell_type": "code",
   "execution_count": 79,
   "metadata": {},
   "outputs": [],
   "source": [
    "class ZNorm(tf.Module):\n",
    "    '''\n",
    "    \n",
    "    '''\n",
    "    def __init__(self, num_features):\n",
    "        super(ZNorm, self).__init__()\n",
    "        \n",
    "        self.std_devs = tf.Variable(tf.ones([num_features]), dtype=tf.float32)\n",
    "        self.means = tf.Variable(tf.zeros([num_features]), dtype=tf.float32)\n",
    "    \n",
    "    \n",
    "    @tf.function\n",
    "    def __call__(self, x):\n",
    "        '''\n",
    "        Compute the Z norm of input features\n",
    "        :param x: Tensor of length num_features\n",
    "        :type x: Tensor of floats\n",
    "        :output: x' = (x - mean/std_dev\n",
    "        '''\n",
    "        return {\"x_prime\" : tf.divide(tf.subtract(x, self.means), self.std_devs)}\n",
    "\n",
    "    @tf.function(input_signature=[tf.TensorSpec([None], tf.float32), tf.TensorSpec([None], tf.float32)])\n",
    "    def calibrate(self, means, standard_deviations):\n",
    "        '''\n",
    "        \n",
    "        '''\n",
    "        self.std_devs.assign(standard_deviations)\n",
    "        self.means.assign(means)"
   ]
  },
  {
   "cell_type": "code",
   "execution_count": 80,
   "metadata": {},
   "outputs": [],
   "source": [
    "standardiser = ZNorm(3)"
   ]
  },
  {
   "cell_type": "code",
   "execution_count": 81,
   "metadata": {},
   "outputs": [
    {
     "data": {
      "text/plain": [
       "<tf.Tensor: id=54997, shape=(3,), dtype=float32, numpy=array([ 1.2,  2. , -1. ], dtype=float32)>"
      ]
     },
     "execution_count": 81,
     "metadata": {},
     "output_type": "execute_result"
    }
   ],
   "source": [
    "standardiser(tf.constant([1.2, 2., -1.], dtype=tf.float32))[\"x_prime\"]"
   ]
  },
  {
   "cell_type": "code",
   "execution_count": 82,
   "metadata": {},
   "outputs": [],
   "source": [
    "means = [np.mean(df[s].values) for s in feature_cols]\n",
    "std_devs = [np.std(df[s].values) for s in feature_cols]"
   ]
  },
  {
   "cell_type": "code",
   "execution_count": 83,
   "metadata": {},
   "outputs": [],
   "source": [
    "standardiser.calibrate(means=means, standard_deviations=std_devs)"
   ]
  },
  {
   "cell_type": "code",
   "execution_count": 84,
   "metadata": {},
   "outputs": [
    {
     "data": {
      "text/plain": [
       "<tf.Tensor: id=55008, shape=(3,), dtype=float32, numpy=array([-66.44142   ,  -0.68476504,  -3.5214276 ], dtype=float32)>"
      ]
     },
     "execution_count": 84,
     "metadata": {},
     "output_type": "execute_result"
    }
   ],
   "source": [
    "standardiser(tf.constant([1.2, 2., -1.]))[\"x_prime\"]"
   ]
  },
  {
   "cell_type": "code",
   "execution_count": 91,
   "metadata": {},
   "outputs": [],
   "source": [
    "def standardise(r):\n",
    "    x = tf.constant(r.values, dtype=tf.float32)\n",
    "    xp = standardiser(x)[\"x_prime\"].numpy()\n",
    "    return pd.Series(xp.tolist())"
   ]
  },
  {
   "cell_type": "code",
   "execution_count": 93,
   "metadata": {},
   "outputs": [],
   "source": [
    "features = df[feature_cols].apply(standardise, axis=1)"
   ]
  },
  {
   "cell_type": "code",
   "execution_count": 94,
   "metadata": {},
   "outputs": [
    {
     "data": {
      "text/html": [
       "<div>\n",
       "<style scoped>\n",
       "    .dataframe tbody tr th:only-of-type {\n",
       "        vertical-align: middle;\n",
       "    }\n",
       "\n",
       "    .dataframe tbody tr th {\n",
       "        vertical-align: top;\n",
       "    }\n",
       "\n",
       "    .dataframe thead th {\n",
       "        text-align: right;\n",
       "    }\n",
       "</style>\n",
       "<table border=\"1\" class=\"dataframe\">\n",
       "  <thead>\n",
       "    <tr style=\"text-align: right;\">\n",
       "      <th></th>\n",
       "      <th>0</th>\n",
       "      <th>1</th>\n",
       "      <th>2</th>\n",
       "    </tr>\n",
       "  </thead>\n",
       "  <tbody>\n",
       "    <tr>\n",
       "      <th>count</th>\n",
       "      <td>3151.000000</td>\n",
       "      <td>3.151000e+03</td>\n",
       "      <td>3.151000e+03</td>\n",
       "    </tr>\n",
       "    <tr>\n",
       "      <th>mean</th>\n",
       "      <td>0.000002</td>\n",
       "      <td>-1.480776e-08</td>\n",
       "      <td>2.985508e-08</td>\n",
       "    </tr>\n",
       "    <tr>\n",
       "      <th>std</th>\n",
       "      <td>1.000159</td>\n",
       "      <td>1.000159e+00</td>\n",
       "      <td>1.000159e+00</td>\n",
       "    </tr>\n",
       "    <tr>\n",
       "      <th>min</th>\n",
       "      <td>-3.582413</td>\n",
       "      <td>-2.786026e+00</td>\n",
       "      <td>-2.397374e+00</td>\n",
       "    </tr>\n",
       "    <tr>\n",
       "      <th>25%</th>\n",
       "      <td>-0.601258</td>\n",
       "      <td>-6.347350e-01</td>\n",
       "      <td>-7.846023e-01</td>\n",
       "    </tr>\n",
       "    <tr>\n",
       "      <th>50%</th>\n",
       "      <td>0.030708</td>\n",
       "      <td>6.568522e-02</td>\n",
       "      <td>1.928353e-01</td>\n",
       "    </tr>\n",
       "    <tr>\n",
       "      <th>75%</th>\n",
       "      <td>0.745390</td>\n",
       "      <td>4.909403e-01</td>\n",
       "      <td>8.770417e-01</td>\n",
       "    </tr>\n",
       "    <tr>\n",
       "      <th>max</th>\n",
       "      <td>2.062262</td>\n",
       "      <td>3.842952e+00</td>\n",
       "      <td>1.268017e+00</td>\n",
       "    </tr>\n",
       "  </tbody>\n",
       "</table>\n",
       "</div>"
      ],
      "text/plain": [
       "                 0             1             2\n",
       "count  3151.000000  3.151000e+03  3.151000e+03\n",
       "mean      0.000002 -1.480776e-08  2.985508e-08\n",
       "std       1.000159  1.000159e+00  1.000159e+00\n",
       "min      -3.582413 -2.786026e+00 -2.397374e+00\n",
       "25%      -0.601258 -6.347350e-01 -7.846023e-01\n",
       "50%       0.030708  6.568522e-02  1.928353e-01\n",
       "75%       0.745390  4.909403e-01  8.770417e-01\n",
       "max       2.062262  3.842952e+00  1.268017e+00"
      ]
     },
     "execution_count": 94,
     "metadata": {},
     "output_type": "execute_result"
    }
   ],
   "source": [
    "features.describe()"
   ]
  },
  {
   "cell_type": "code",
   "execution_count": 96,
   "metadata": {},
   "outputs": [],
   "source": [
    "X = features.values\n",
    "y = df[label_col].values"
   ]
  },
  {
   "cell_type": "code",
   "execution_count": 133,
   "metadata": {},
   "outputs": [],
   "source": [
    "def mymodel(X,y):\n",
    "\n",
    "    tf.random.set_seed(seed=0)\n",
    "\n",
    "    X_train, X_test, y_train, y_test = train_test_split(X, y, test_size=0.33, random_state=42, shuffle=True)\n",
    "    \n",
    "    # Create Keras model\n",
    "    model = keras.Sequential(name=\"mymodel\", layers=[\n",
    "        keras.layers.InputLayer(input_shape=(3), name=\"input\"),\n",
    "        keras.layers.Dense(6, activation=\"sigmoid\", name=\"dense\"),\n",
    "        keras.layers.Dense(1, activation=\"sigmoid\", name=\"output\")\n",
    "    ])\n",
    "\n",
    "    # Print model architecture\n",
    "    model.summary()\n",
    "\n",
    "    # Compile model with optimizer\n",
    "    model.compile(optimizer=keras.optimizers.Adam(0.05),\n",
    "                  loss=\"binary_crossentropy\",\n",
    "                  metrics=[\"accuracy\"])\n",
    "\n",
    "    # Train model\n",
    "    model.fit(x=[X_train], y=[y_train], batch_size=50, epochs=5)\n",
    "\n",
    "    # Test model\n",
    "    test_loss, test_acc = model.evaluate(x=[X_test], y=[y_test], verbose=2)\n",
    "    \n",
    "    print(\"Test accuracy: \")\n",
    "    print(test_acc)\n",
    "    return model"
   ]
  },
  {
   "cell_type": "code",
   "execution_count": 134,
   "metadata": {},
   "outputs": [
    {
     "name": "stdout",
     "output_type": "stream",
     "text": [
      "Model: \"mymodel\"\n",
      "_________________________________________________________________\n",
      "Layer (type)                 Output Shape              Param #   \n",
      "=================================================================\n",
      "dense (Dense)                (None, 6)                 24        \n",
      "_________________________________________________________________\n",
      "output (Dense)               (None, 1)                 7         \n",
      "=================================================================\n",
      "Total params: 31\n",
      "Trainable params: 31\n",
      "Non-trainable params: 0\n",
      "_________________________________________________________________\n",
      "Train on 2111 samples\n",
      "Epoch 1/5\n",
      "2111/2111 [==============================] - 2s 924us/sample - loss: 0.3694 - accuracy: 0.8333\n",
      "Epoch 2/5\n",
      "2111/2111 [==============================] - 0s 20us/sample - loss: 0.2507 - accuracy: 0.8802\n",
      "Epoch 3/5\n",
      "2111/2111 [==============================] - 0s 21us/sample - loss: 0.2291 - accuracy: 0.8854\n",
      "Epoch 4/5\n",
      "2111/2111 [==============================] - 0s 27us/sample - loss: 0.2233 - accuracy: 0.8896\n",
      "Epoch 5/5\n",
      "2111/2111 [==============================] - 0s 21us/sample - loss: 0.2169 - accuracy: 0.9000\n",
      "1040/1 - 0s - loss: 0.3760 - accuracy: 0.9029\n",
      "Test accuracy: \n",
      "0.9028846\n"
     ]
    }
   ],
   "source": [
    "keras_model = mymodel(X, y)"
   ]
  },
  {
   "cell_type": "code",
   "execution_count": null,
   "metadata": {},
   "outputs": [],
   "source": [
    "keras_model_path = os.path.join(MODEL_DIR, 'keras_model')\n",
    "tf.saved_model.save(model, keras_model_path)"
   ]
  }
 ],
 "metadata": {
  "kernelspec": {
   "display_name": "Python 3",
   "language": "python",
   "name": "python3"
  },
  "language_info": {
   "codemirror_mode": {
    "name": "ipython",
    "version": 3
   },
   "file_extension": ".py",
   "mimetype": "text/x-python",
   "name": "python",
   "nbconvert_exporter": "python",
   "pygments_lexer": "ipython3",
   "version": "3.7.4"
  }
 },
 "nbformat": 4,
 "nbformat_minor": 4
}
